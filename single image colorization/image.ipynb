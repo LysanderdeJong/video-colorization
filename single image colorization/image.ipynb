{
 "cells": [
  {
   "cell_type": "code",
   "execution_count": 1,
   "metadata": {},
   "outputs": [],
   "source": [
    "import torch\n",
    "import torch.nn.functional as F\n",
    "import network as model\n",
    "import pytorch_lightning as pl\n",
    "import wandb\n",
    "from pytorch_lightning.callbacks import EarlyStopping, ModelCheckpoint, LearningRateLogger\n",
    "from pytorch_lightning.loggers import WandbLogger\n",
    "import os"
   ]
  },
  {
   "cell_type": "code",
   "execution_count": 2,
   "metadata": {},
   "outputs": [],
   "source": [
    "import logging\n",
    "logging.propagate = False \n",
    "logging.getLogger().setLevel(logging.ERROR)"
   ]
  },
  {
   "cell_type": "code",
   "execution_count": 3,
   "metadata": {},
   "outputs": [
    {
     "data": {
      "text/plain": [
       "42"
      ]
     },
     "execution_count": 3,
     "metadata": {},
     "output_type": "execute_result"
    }
   ],
   "source": [
    "pl.seed_everything(42)"
   ]
  },
  {
   "cell_type": "code",
   "execution_count": 4,
   "metadata": {},
   "outputs": [],
   "source": [
    "wandb_logger = WandbLogger(project=\"video-colorization\", tags=[\"colornet\", \"deeplab\", \"Test\"],\n",
    "                           name=\"Colornet 10.4 - Classification\", log_model=True, group=\"Single Image Colorization with Classification\")"
   ]
  },
  {
   "cell_type": "code",
   "execution_count": 5,
   "metadata": {},
   "outputs": [
    {
     "name": "stdout",
     "output_type": "stream",
     "text": [
      "Namespace(accumulate_grad_batches=5, amp_level='O1', augmentation=True, auto_lr_find=False, auto_scale_batch_size=None, auto_select_gpus=False, batch_size=12, benchmark=True, check_val_every_n_epoch=1, checkpoint_callback=True, default_root_dir=None, deterministic=False, distributed_backend=None, early_stop_callback=False, fast_dev_run=False, gpus=[1], gradient_clip_val=1.0, learning_rate=0.004, log_gpu_memory=None, log_save_interval=1000, logger=<pytorch_lightning.loggers.wandb.WandbLogger object at 0x000001678E5BF048>, max_epochs=200, max_steps=None, min_epochs=1, min_steps=None, num_nodes=1, num_processes=1, num_sanity_val_steps=2, num_tpu_cores=None, num_workers=6, overfit_pct=0.0, patience=5, precision=32, print_nan_grads=False, process_position=0, profiler=None, progress_bar_callback=True, progress_bar_refresh_rate=1, reload_dataloaders_every_epoch=False, replace_sampler_ddp=True, resume_from_checkpoint='checkpoints/checkpoint_epoch=021-val_loss=50919525786818239700909686784.0000.ckpt', row_log_interval=10, terminate_on_nan=True, test_dir='D:/Video Colorization/Datasets/Imagenet/CLS-LOC/test', test_percent_check=1.0, track_grad_norm=-1, train_dir='D:/Video Colorization/Datasets/Imagenet/CLS-LOC/train', train_percent_check=1.0, truncated_bptt_steps=None, val_check_interval=1.0, val_percent_check=1.0, weights_save_path=None, weights_summary='top')\n"
     ]
    }
   ],
   "source": [
    "# Hyperparameters\n",
    "from argparse import ArgumentParser\n",
    "parser = ArgumentParser(prog=\"image colorization\")\n",
    "\n",
    "# add model specific args\n",
    "parser = model.ColorNet.add_model_specific_args(parser)\n",
    "\n",
    "parser = pl.Trainer.add_argparse_args(parser)\n",
    "\n",
    "# add PROGRAM level args\n",
    "parser.set_defaults(train_dir=\"D:/Video Colorization/Datasets/Imagenet/CLS-LOC/train\")\n",
    "parser.set_defaults(test_dir=\"D:/Video Colorization/Datasets/Imagenet/CLS-LOC/test\")\n",
    "\n",
    "parser.set_defaults(patience=5)\n",
    "parser.set_defaults(batch_size=12)\n",
    "parser.set_defaults(learning_rate=4e-3)\n",
    "\n",
    "parser.set_defaults(max_epochs=200)\n",
    "parser.set_defaults(gpus=[1])\n",
    "parser.set_defaults(logger=wandb_logger)\n",
    "parser.set_defaults(deterministic=False)\n",
    "parser.set_defaults(benchmark=True)\n",
    "parser.set_defaults(log_save_interval=1000)\n",
    "parser.set_defaults(accumulate_grad_batches=5)\n",
    "parser.set_defaults(gradient_clip_val=1.0)\n",
    "parser.set_defaults(auto_scale_batch_size=None)\n",
    "parser.set_defaults(auto_lr_find=False)\n",
    "parser.set_defaults(terminate_on_nan=True)\n",
    "parser.set_defaults(weights_summary='top')\n",
    "\n",
    "parser.set_defaults(train_percent_check=1.0)\n",
    "parser.set_defaults(resume_from_checkpoint=\"checkpoints/checkpoint_epoch=021-val_loss=50919525786818239700909686784.0000.ckpt\")\n",
    "\n",
    "parser.set_defaults(profiler=None)\n",
    "parser.set_defaults(fast_dev_run=False)\n",
    "\n",
    "hparams = parser.parse_args([])\n",
    "print(hparams)"
   ]
  },
  {
   "cell_type": "code",
   "execution_count": 6,
   "metadata": {},
   "outputs": [],
   "source": [
    "colornet = model.ColorNet(hparams)\n",
    "#colornet = colornet.load_from_checkpoint(checkpoint_path=\"checkpoints/checkpoint_epoch=004-val_loss=6050.4106.ckpt\")\n",
    "#colornet.load_state_dict(torch.load(\"checkpoints/weights.pth\"))"
   ]
  },
  {
   "cell_type": "code",
   "execution_count": 7,
   "metadata": {},
   "outputs": [
    {
     "data": {
      "text/html": [
       "\n",
       "                Logging results to <a href=\"https://wandb.com\" target=\"_blank\">Weights & Biases</a> <a href=\"https://docs.wandb.com/integrations/jupyter.html\" target=\"_blank\">(Documentation)</a>.<br/>\n",
       "                Project page: <a href=\"https://app.wandb.ai/lysander/video-colorization\" target=\"_blank\">https://app.wandb.ai/lysander/video-colorization</a><br/>\n",
       "                Run page: <a href=\"https://app.wandb.ai/lysander/video-colorization/runs/3mbfx4xi\" target=\"_blank\">https://app.wandb.ai/lysander/video-colorization/runs/3mbfx4xi</a><br/>\n",
       "            "
      ],
      "text/plain": [
       "<IPython.core.display.HTML object>"
      ]
     },
     "metadata": {},
     "output_type": "display_data"
    },
    {
     "name": "stderr",
     "output_type": "stream",
     "text": [
      "GPU available: True, used: True\n",
      "No environment variable for node rank defined. Set as 0.\n",
      "CUDA_VISIBLE_DEVICES: [1]\n"
     ]
    }
   ],
   "source": [
    "wandb_logger.watch(colornet, log=None, log_freq=1000)\n",
    "checkpoint_callback = ModelCheckpoint(filepath=\"checkpoints/checkpoint_{epoch:03d}-{val_loss:.4f}\", save_top_k=-1)\n",
    "early_stopping = EarlyStopping(\"val_loss\", patience=8)\n",
    "lr_logger = LearningRateLogger()\n",
    "trainer = pl.Trainer.from_argparse_args(hparams, checkpoint_callback=checkpoint_callback, callbacks=[lr_logger])"
   ]
  },
  {
   "cell_type": "code",
   "execution_count": 8,
   "metadata": {},
   "outputs": [
    {
     "name": "stderr",
     "output_type": "stream",
     "text": [
      "D:\\Anaconda\\envs\\colorization\\lib\\site-packages\\pytorch_lightning\\utilities\\distributed.py:23: UserWarning: warning, `hparams` dropped from checkpoint. An attribute is not picklable Can't pickle local object 'TorchGraph.hook_torch_modules.<locals>.backward_hook'\n",
      "  warnings.warn(*args, **kwargs)\n",
      "\n",
      "  | Name    | Type               | Params\n",
      "-------------------------------------------\n",
      "0 | network | DeepLabV3Plus      | 41 M  \n",
      "1 | f_loss  | CrossEntropyLoss2d | 0     \n"
     ]
    },
    {
     "data": {
      "application/vnd.jupyter.widget-view+json": {
       "model_id": "da0889cb1c14460e9e6c45caedc972ec",
       "version_major": 2,
       "version_minor": 0
      },
      "text/plain": [
       "HBox(children=(FloatProgress(value=0.0, description='Finding best initial lr', style=ProgressStyle(description…"
      ]
     },
     "metadata": {},
     "output_type": "display_data"
    },
    {
     "name": "stderr",
     "output_type": "stream",
     "text": [
      "D:\\Anaconda\\envs\\colorization\\lib\\site-packages\\ipykernel_launcher.py:3: UserWarning: Matplotlib is currently using module://ipykernel.pylab.backend_inline, which is a non-GUI backend, so cannot show the figure.\n",
      "  This is separate from the ipykernel package so we can avoid doing imports until\n"
     ]
    },
    {
     "name": "stdout",
     "output_type": "stream",
     "text": [
      "0.003981071705534969\n"
     ]
    },
    {
     "data": {
      "image/png": "[encoded data removed]",
      "text/plain": [
       "<Figure size 432x288 with 1 Axes>"
      ]
     },
     "metadata": {
      "needs_background": "light"
     },
     "output_type": "display_data"
    }
   ],
   "source": [
    "lr_finder = trainer.lr_find(colornet, early_stop_threshold=None)\n",
    "fig = lr_finder.plot(suggest=True)\n",
    "fig.show()\n",
    "\n",
    "new_lr = lr_finder.suggestion()\n",
    "print(new_lr)"
   ]
  },
  {
   "cell_type": "code",
   "execution_count": 8,
   "metadata": {},
   "outputs": [
    {
     "name": "stderr",
     "output_type": "stream",
     "text": [
      "\n",
      "  | Name    | Type               | Params\n",
      "-------------------------------------------\n",
      "0 | network | DeepLabV3Plus      | 41 M  \n",
      "1 | f_loss  | CrossEntropyLoss2d | 0     \n"
     ]
    },
    {
     "data": {
      "application/vnd.jupyter.widget-view+json": {
       "model_id": "",
       "version_major": 2,
       "version_minor": 0
      },
      "text/plain": [
       "HBox(children=(FloatProgress(value=1.0, bar_style='info', description='Validation sanity check', layout=Layout…"
      ]
     },
     "metadata": {},
     "output_type": "display_data"
    },
    {
     "data": {
      "application/vnd.jupyter.widget-view+json": {
       "model_id": "b557782057f84aff9609ccd7e7bc6cd8",
       "version_major": 2,
       "version_minor": 0
      },
      "text/plain": [
       "HBox(children=(FloatProgress(value=1.0, bar_style='info', description='Training', layout=Layout(flex='2'), max…"
      ]
     },
     "metadata": {},
     "output_type": "display_data"
    },
    {
     "data": {
      "application/vnd.jupyter.widget-view+json": {
       "model_id": "",
       "version_major": 2,
       "version_minor": 0
      },
      "text/plain": [
       "HBox(children=(FloatProgress(value=1.0, bar_style='info', description='Validating', layout=Layout(flex='2'), m…"
      ]
     },
     "metadata": {},
     "output_type": "display_data"
    },
    {
     "data": {
      "application/vnd.jupyter.widget-view+json": {
       "model_id": "",
       "version_major": 2,
       "version_minor": 0
      },
      "text/plain": [
       "HBox(children=(FloatProgress(value=1.0, bar_style='info', description='Validating', layout=Layout(flex='2'), m…"
      ]
     },
     "metadata": {},
     "output_type": "display_data"
    },
    {
     "data": {
      "application/vnd.jupyter.widget-view+json": {
       "model_id": "",
       "version_major": 2,
       "version_minor": 0
      },
      "text/plain": [
       "HBox(children=(FloatProgress(value=1.0, bar_style='info', description='Validating', layout=Layout(flex='2'), m…"
      ]
     },
     "metadata": {},
     "output_type": "display_data"
    },
    {
     "data": {
      "application/vnd.jupyter.widget-view+json": {
       "model_id": "",
       "version_major": 2,
       "version_minor": 0
      },
      "text/plain": [
       "HBox(children=(FloatProgress(value=1.0, bar_style='info', description='Validating', layout=Layout(flex='2'), m…"
      ]
     },
     "metadata": {},
     "output_type": "display_data"
    },
    {
     "data": {
      "application/vnd.jupyter.widget-view+json": {
       "model_id": "",
       "version_major": 2,
       "version_minor": 0
      },
      "text/plain": [
       "HBox(children=(FloatProgress(value=1.0, bar_style='info', description='Validating', layout=Layout(flex='2'), m…"
      ]
     },
     "metadata": {},
     "output_type": "display_data"
    },
    {
     "data": {
      "application/vnd.jupyter.widget-view+json": {
       "model_id": "",
       "version_major": 2,
       "version_minor": 0
      },
      "text/plain": [
       "HBox(children=(FloatProgress(value=1.0, bar_style='info', description='Validating', layout=Layout(flex='2'), m…"
      ]
     },
     "metadata": {},
     "output_type": "display_data"
    },
    {
     "data": {
      "application/vnd.jupyter.widget-view+json": {
       "model_id": "",
       "version_major": 2,
       "version_minor": 0
      },
      "text/plain": [
       "HBox(children=(FloatProgress(value=1.0, bar_style='info', description='Validating', layout=Layout(flex='2'), m…"
      ]
     },
     "metadata": {},
     "output_type": "display_data"
    },
    {
     "data": {
      "application/vnd.jupyter.widget-view+json": {
       "model_id": "",
       "version_major": 2,
       "version_minor": 0
      },
      "text/plain": [
       "HBox(children=(FloatProgress(value=1.0, bar_style='info', description='Validating', layout=Layout(flex='2'), m…"
      ]
     },
     "metadata": {},
     "output_type": "display_data"
    },
    {
     "name": "stderr",
     "output_type": "stream",
     "text": [
      "Detected KeyboardInterrupt, attempting graceful shutdown...\n"
     ]
    },
    {
     "name": "stdout",
     "output_type": "stream",
     "text": [
      "\n"
     ]
    },
    {
     "data": {
      "text/plain": [
       "1"
      ]
     },
     "execution_count": 8,
     "metadata": {},
     "output_type": "execute_result"
    }
   ],
   "source": [
    "trainer.fit(colornet)"
   ]
  },
  {
   "cell_type": "code",
   "execution_count": 9,
   "metadata": {},
   "outputs": [],
   "source": [
    "torch.save(colornet.state_dict(), \"checkpoints/weights2.pth\")"
   ]
  }
 ],
 "metadata": {
  "kernelspec": {
   "display_name": "Python 3",
   "language": "python",
   "name": "python3"
  },
  "language_info": {
   "codemirror_mode": {
    "name": "ipython",
    "version": 3
   },
   "file_extension": ".py",
   "mimetype": "text/x-python",
   "name": "python",
   "nbconvert_exporter": "python",
   "pygments_lexer": "ipython3",
   "version": "3.7.7"
  }
 },
 "nbformat": 4,
 "nbformat_minor": 4
}
